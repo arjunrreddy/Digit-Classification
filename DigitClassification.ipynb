{
 "cells": [
  {
   "cell_type": "code",
   "execution_count": 1,
   "metadata": {},
   "outputs": [],
   "source": [
    "import tensorflow as tf\n",
    "from tensorflow import keras\n",
    "import matplotlib.pyplot as plt\n",
    "%matplotlib inline\n",
    "import numpy as np\n",
    "import seaborn as sn"
   ]
  },
  {
   "cell_type": "code",
   "execution_count": 2,
   "metadata": {},
   "outputs": [],
   "source": [
    "#Downloading the Numbers Dataset\n",
    "(X_train,y_train), (X_test, y_test) = keras.datasets.mnist.load_data()"
   ]
  },
  {
   "cell_type": "code",
   "execution_count": 3,
   "metadata": {},
   "outputs": [
    {
     "data": {
      "text/plain": [
       "<matplotlib.image.AxesImage at 0x2cf5d99e488>"
      ]
     },
     "execution_count": 3,
     "metadata": {},
     "output_type": "execute_result"
    },
    {
     "data": {
      "image/png": "[encoded data removed]",
      "text/plain": [
       "<Figure size 288x288 with 1 Axes>"
      ]
     },
     "metadata": {
      "needs_background": "light"
     },
     "output_type": "display_data"
    }
   ],
   "source": [
    "#Taking a peek at the images\n",
    "plt.matshow(X_train[12])"
   ]
  },
  {
   "cell_type": "code",
   "execution_count": 4,
   "metadata": {},
   "outputs": [],
   "source": [
    "#standardizing the training and test dataset before putting it into the neural network\n",
    "X_train = X_train / 255\n",
    "X_test = X_test / 255"
   ]
  },
  {
   "cell_type": "code",
   "execution_count": 5,
   "metadata": {},
   "outputs": [
    {
     "data": {
      "text/plain": [
       "(10000, 784)"
      ]
     },
     "execution_count": 5,
     "metadata": {},
     "output_type": "execute_result"
    }
   ],
   "source": [
    "#Flattening the 2-d arrays to 1-d arrays to put into the neural network \n",
    "X_train_flattened = X_train.reshape(len(X_train),28*28)\n",
    "X_test_flattened = X_test.reshape(len(X_test),28*28)\n",
    "X_test_flattened.shape"
   ]
  },
  {
   "cell_type": "code",
   "execution_count": 6,
   "metadata": {},
   "outputs": [
    {
     "name": "stdout",
     "output_type": "stream",
     "text": [
      "Epoch 1/7\n",
      "1875/1875 [==============================] - 1s 766us/step - loss: 0.4849 - accuracy: 0.8806\n",
      "Epoch 2/7\n",
      "1875/1875 [==============================] - 1s 619us/step - loss: 0.3064 - accuracy: 0.9156\n",
      "Epoch 3/7\n",
      "1875/1875 [==============================] - 1s 595us/step - loss: 0.2854 - accuracy: 0.9211\n",
      "Epoch 4/7\n",
      "1875/1875 [==============================] - 1s 613us/step - loss: 0.2748 - accuracy: 0.9233\n",
      "Epoch 5/7\n",
      "1875/1875 [==============================] - 1s 611us/step - loss: 0.2677 - accuracy: 0.9262\n",
      "Epoch 6/7\n",
      "1875/1875 [==============================] - 1s 630us/step - loss: 0.2626 - accuracy: 0.9277\n",
      "Epoch 7/7\n",
      "1875/1875 [==============================] - 1s 606us/step - loss: 0.2588 - accuracy: 0.9288\n"
     ]
    },
    {
     "data": {
      "text/plain": [
       "<tensorflow.python.keras.callbacks.History at 0x2cf597afac8>"
      ]
     },
     "execution_count": 6,
     "metadata": {},
     "output_type": "execute_result"
    }
   ],
   "source": [
    "#Loading the model with sigmoid activation and putting in layers\n",
    "model = keras.Sequential([keras.layers.Dense(10, input_shape = (784,),activation = 'sigmoid')])\n",
    "    \n",
    "#Declaring optimizers and declaring how to measure success/failure\n",
    "model.compile(optimizer='adam',\n",
    "              loss = 'sparse_categorical_crossentropy',\n",
    "             metrics=['accuracy'])\n",
    "#Loading model\n",
    "model.fit(X_train_flattened, y_train, epochs=7)"
   ]
  },
  {
   "cell_type": "code",
   "execution_count": null,
   "metadata": {},
   "outputs": [],
   "source": []
  },
  {
   "cell_type": "code",
   "execution_count": 7,
   "metadata": {},
   "outputs": [
    {
     "name": "stdout",
     "output_type": "stream",
     "text": [
      "313/313 [==============================] - 0s 475us/step - loss: 0.2649 - accuracy: 0.9259\n"
     ]
    },
    {
     "data": {
      "text/plain": [
       "[0.2648787796497345, 0.9258999824523926]"
      ]
     },
     "execution_count": 7,
     "metadata": {},
     "output_type": "execute_result"
    }
   ],
   "source": [
    "#Testing out model\n",
    "model.evaluate(X_test_flattened,y_test)"
   ]
  },
  {
   "cell_type": "code",
   "execution_count": 8,
   "metadata": {},
   "outputs": [
    {
     "data": {
      "text/plain": [
       "<matplotlib.image.AxesImage at 0x2cf5c97c2c8>"
      ]
     },
     "execution_count": 8,
     "metadata": {},
     "output_type": "execute_result"
    },
    {
     "data": {
      "image/png": "[encoded data removed]",
      "text/plain": [
       "<Figure size 288x288 with 1 Axes>"
      ]
     },
     "metadata": {
      "needs_background": "light"
     },
     "output_type": "display_data"
    }
   ],
   "source": [
    "#Checking out a prediction\n",
    "plt.matshow(X_test[1])"
   ]
  },
  {
   "cell_type": "code",
   "execution_count": 9,
   "metadata": {},
   "outputs": [
    {
     "data": {
      "text/plain": [
       "array([2.3430586e-04, 1.5720582e-06, 4.8819885e-01, 1.0181324e-04,\n",
       "       1.1835457e-14, 1.6544163e-03, 1.7400682e-03, 1.2178108e-17,\n",
       "       5.6326651e-05, 7.4703402e-15], dtype=float32)"
      ]
     },
     "execution_count": 9,
     "metadata": {},
     "output_type": "execute_result"
    }
   ],
   "source": [
    "#Checking out prediction from model\n",
    "y_predicted = model.predict(X_test_flattened)\n",
    "y_predicted[1]"
   ]
  },
  {
   "cell_type": "code",
   "execution_count": 10,
   "metadata": {},
   "outputs": [
    {
     "data": {
      "text/plain": [
       "2"
      ]
     },
     "execution_count": 10,
     "metadata": {},
     "output_type": "execute_result"
    }
   ],
   "source": [
    "#Converting model prediction to integer format (test)\n",
    "np.argmax(y_predicted[1])"
   ]
  },
  {
   "cell_type": "code",
   "execution_count": null,
   "metadata": {},
   "outputs": [],
   "source": []
  },
  {
   "cell_type": "code",
   "execution_count": 11,
   "metadata": {},
   "outputs": [
    {
     "data": {
      "text/plain": [
       "[7, 2, 1, 0, 4]"
      ]
     },
     "execution_count": 11,
     "metadata": {},
     "output_type": "execute_result"
    }
   ],
   "source": [
    "#Converting model prediction to integer format for entire list of predictions\n",
    "y_predicted_labels = [np.argmax(i) for i in y_predicted]\n",
    "y_predicted_labels[:5]"
   ]
  },
  {
   "cell_type": "code",
   "execution_count": 12,
   "metadata": {},
   "outputs": [
    {
     "data": {
      "text/plain": [
       "<tf.Tensor: shape=(10, 10), dtype=int32, numpy=\n",
       "array([[ 962,    0,    1,    2,    0,    5,    5,    2,    3,    0],\n",
       "       [   0, 1112,    3,    2,    0,    1,    4,    2,   11,    0],\n",
       "       [   7,   11,  905,   19,    8,    4,   13,   11,   51,    3],\n",
       "       [   3,    0,   14,  925,    1,   21,    2,   11,   28,    5],\n",
       "       [   1,    1,    3,    1,  921,    0,   10,    4,   12,   29],\n",
       "       [   8,    2,    1,   31,   10,  774,   13,    8,   39,    6],\n",
       "       [  12,    3,    6,    1,    7,   12,  912,    2,    3,    0],\n",
       "       [   2,    6,   23,    6,    9,    1,    0,  946,    4,   31],\n",
       "       [   4,    8,    4,   16,    9,   20,    8,    9,  891,    5],\n",
       "       [   9,    7,    1,    9,   26,    6,    0,   25,   15,  911]])>"
      ]
     },
     "execution_count": 12,
     "metadata": {},
     "output_type": "execute_result"
    }
   ],
   "source": [
    "#Making Confusion Matrix\n",
    "cm = tf.math.confusion_matrix(labels=y_test,predictions=y_predicted_labels)\n",
    "cm"
   ]
  },
  {
   "cell_type": "code",
   "execution_count": 13,
   "metadata": {},
   "outputs": [
    {
     "data": {
      "text/plain": [
       "Text(69.0, 0.5, 'Truth')"
      ]
     },
     "execution_count": 13,
     "metadata": {},
     "output_type": "execute_result"
    },
    {
     "data": {
      "image/png": "[encoded data removed]",
      "text/plain": [
       "<Figure size 720x504 with 2 Axes>"
      ]
     },
     "metadata": {
      "needs_background": "light"
     },
     "output_type": "display_data"
    }
   ],
   "source": [
    "#Mapping out confusion matrix in seaborn\n",
    "plt.figure(figsize = (10,7))\n",
    "sn.heatmap(cm,annot=True, fmt='d')\n",
    "plt.xlabel('Predicted')\n",
    "plt.ylabel('Truth')"
   ]
  },
  {
   "cell_type": "markdown",
   "metadata": {},
   "source": [
    "## Adding Hidden Layer"
   ]
  },
  {
   "cell_type": "code",
   "execution_count": 14,
   "metadata": {},
   "outputs": [
    {
     "name": "stdout",
     "output_type": "stream",
     "text": [
      "Epoch 1/7\n",
      "1875/1875 [==============================] - 2s 1ms/step - loss: 0.2914 - accuracy: 0.9180\n",
      "Epoch 2/7\n",
      "1875/1875 [==============================] - 2s 864us/step - loss: 0.1330 - accuracy: 0.9613\n",
      "Epoch 3/7\n",
      "1875/1875 [==============================] - 2s 848us/step - loss: 0.0970 - accuracy: 0.9711\n",
      "Epoch 4/7\n",
      "1875/1875 [==============================] - 2s 844us/step - loss: 0.0738 - accuracy: 0.9779\n",
      "Epoch 5/7\n",
      "1875/1875 [==============================] - 2s 839us/step - loss: 0.0601 - accuracy: 0.9820\n",
      "Epoch 6/7\n",
      "1875/1875 [==============================] - 2s 966us/step - loss: 0.0505 - accuracy: 0.9845\n",
      "Epoch 7/7\n",
      "1875/1875 [==============================] - 3s 2ms/step - loss: 0.0413 - accuracy: 0.9871\n"
     ]
    },
    {
     "data": {
      "text/plain": [
       "<tensorflow.python.keras.callbacks.History at 0x2cf5c906988>"
      ]
     },
     "execution_count": 14,
     "metadata": {},
     "output_type": "execute_result"
    }
   ],
   "source": [
    "#Loading the model with sigmoid activation and putting in layers (This time with 100 hidden layer and relu activation)\n",
    "model = keras.Sequential([keras.layers.Dense(100, input_shape = (784,),activation = 'relu'),\n",
    "                        keras.layers.Dense(10,activation = 'sigmoid')])\n",
    "    \n",
    "#Declaring optimizers and declaring how to measure success/failure\n",
    "model.compile(optimizer='adam',\n",
    "              loss = 'sparse_categorical_crossentropy',\n",
    "              metrics=['accuracy'])\n",
    "#Loading model\n",
    "model.fit(X_train_flattened, y_train, epochs=7)"
   ]
  },
  {
   "cell_type": "code",
   "execution_count": 15,
   "metadata": {},
   "outputs": [
    {
     "name": "stdout",
     "output_type": "stream",
     "text": [
      "313/313 [==============================] - 0s 911us/step - loss: 0.0810 - accuracy: 0.9768\n"
     ]
    },
    {
     "data": {
      "text/plain": [
       "[0.08096697926521301, 0.9768000245094299]"
      ]
     },
     "execution_count": 15,
     "metadata": {},
     "output_type": "execute_result"
    }
   ],
   "source": [
    "#Testing out model\n",
    "model.evaluate(X_test_flattened,y_test)"
   ]
  },
  {
   "cell_type": "markdown",
   "metadata": {},
   "source": [
    "Without Hidden Layer it was 92% Effective and with hidden layer it is now 97% effective!!"
   ]
  },
  {
   "cell_type": "code",
   "execution_count": 16,
   "metadata": {},
   "outputs": [
    {
     "data": {
      "text/plain": [
       "Text(69.0, 0.5, 'Truth')"
      ]
     },
     "execution_count": 16,
     "metadata": {},
     "output_type": "execute_result"
    },
    {
     "data": {
      "image/png": "[encoded data removed]",
      "text/plain": [
       "<Figure size 720x504 with 2 Axes>"
      ]
     },
     "metadata": {
      "needs_background": "light"
     },
     "output_type": "display_data"
    }
   ],
   "source": [
    "#Doing the same thing as before to map out confusion matrix again\n",
    "y_predicted = model.predict(X_test_flattened)\n",
    "y_predicted_labels = [np.argmax(i) for i in y_predicted]\n",
    "\n",
    "cm = tf.math.confusion_matrix(labels=y_test,predictions=y_predicted_labels)\n",
    "\n",
    "plt.figure(figsize = (10,7))\n",
    "sn.heatmap(cm,annot=True, fmt='d')\n",
    "plt.xlabel('Predicted')\n",
    "plt.ylabel('Truth')"
   ]
  },
  {
   "cell_type": "markdown",
   "metadata": {},
   "source": [
    "# Trying Out Non-Flattening Keras Variable"
   ]
  },
  {
   "cell_type": "code",
   "execution_count": 17,
   "metadata": {},
   "outputs": [
    {
     "name": "stdout",
     "output_type": "stream",
     "text": [
      "Epoch 1/7\n",
      "1875/1875 [==============================] - 2s 968us/step - loss: 0.2960 - accuracy: 0.9175\n",
      "Epoch 2/7\n",
      "1875/1875 [==============================] - 2s 911us/step - loss: 0.1432 - accuracy: 0.9586\n",
      "Epoch 3/7\n",
      "1875/1875 [==============================] - 2s 945us/step - loss: 0.1026 - accuracy: 0.9697\n",
      "Epoch 4/7\n",
      "1875/1875 [==============================] - 2s 842us/step - loss: 0.0785 - accuracy: 0.9771\n",
      "Epoch 5/7\n",
      "1875/1875 [==============================] - 2s 835us/step - loss: 0.0636 - accuracy: 0.9809\n",
      "Epoch 6/7\n",
      "1875/1875 [==============================] - 2s 908us/step - loss: 0.0512 - accuracy: 0.9848\n",
      "Epoch 7/7\n",
      "1875/1875 [==============================] - 2s 1ms/step - loss: 0.0427 - accuracy: 0.9870\n"
     ]
    },
    {
     "data": {
      "text/plain": [
       "<tensorflow.python.keras.callbacks.History at 0x2cf5d074748>"
      ]
     },
     "execution_count": 17,
     "metadata": {},
     "output_type": "execute_result"
    }
   ],
   "source": [
    "#Loading the model with sigmoid activation and putting in layers (This time with 100 hidden layer and relu activation)\n",
    "model = keras.Sequential([\n",
    "    keras.layers.Flatten(input_shape=(28,28)),\n",
    "    keras.layers.Dense(100, input_shape = (784,),activation = 'relu'),\n",
    "    keras.layers.Dense(10,activation = 'sigmoid')])\n",
    "    \n",
    "#Declaring optimizers and declaring how to measure success/failure\n",
    "model.compile(optimizer='adam',\n",
    "              loss = 'sparse_categorical_crossentropy',\n",
    "              metrics=['accuracy'])\n",
    "#Loading model\n",
    "model.fit(X_train, y_train, epochs=7)"
   ]
  }
 ],
 "metadata": {
  "kernelspec": {
   "display_name": "Python 3",
   "language": "python",
   "name": "python3"
  },
  "language_info": {
   "codemirror_mode": {
    "name": "ipython",
    "version": 3
   },
   "file_extension": ".py",
   "mimetype": "text/x-python",
   "name": "python",
   "nbconvert_exporter": "python",
   "pygments_lexer": "ipython3",
   "version": "3.7.7"
  }
 },
 "nbformat": 4,
 "nbformat_minor": 4
}
